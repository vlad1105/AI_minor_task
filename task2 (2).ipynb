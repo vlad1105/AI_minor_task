{
 "cells": [
  {
   "cell_type": "markdown",
   "metadata": {},
   "source": [
    "# Задание 2"
   ]
  },
  {
   "cell_type": "markdown",
   "metadata": {},
   "source": [
    "## Построение и оценка бейзлайна"
   ]
  },
  {
   "cell_type": "markdown",
   "metadata": {},
   "source": [
    "### Разбиение данных"
   ]
  },
  {
   "cell_type": "code",
   "execution_count": 100,
   "metadata": {},
   "outputs": [],
   "source": [
    "import numpy as np\n",
    "import pandas as pd\n",
    "import sklearn as sk\n",
    "import matplotlib.pyplot as plt\n",
    "import os"
   ]
  },
  {
   "cell_type": "code",
   "execution_count": 113,
   "metadata": {},
   "outputs": [],
   "source": [
    "# заного загружаем набор данных\n",
    "csv_file = next((f for f in os.listdir() if f.endswith(\".csv\")), None)\n",
    "if not csv_file:\n",
    "    print(\"файл не найден.\")\n",
    "\n",
    "df = pd.read_csv(csv_file)"
   ]
  },
  {
   "cell_type": "markdown",
   "metadata": {},
   "source": [
    "подготовим данные.\n",
    "\n",
    "у нас используется много категориальных переменных, поэтому не будем возиться с labelenc, а воспользуемся типичным pandas.get_dummies"
   ]
  },
  {
   "cell_type": "code",
   "execution_count": 114,
   "metadata": {},
   "outputs": [
    {
     "name": "stdout",
     "output_type": "stream",
     "text": [
      "разбиение train/test: 4930 | 2113\n"
     ]
    }
   ],
   "source": [
    "# подготовим данные\n",
    "df_final = pd.concat(\n",
    "    [\n",
    "        df.select_dtypes(include=[\"number\"]),\n",
    "        df[\n",
    "            [\n",
    "                col\n",
    "                for col in df.select_dtypes(include=[\"object\"])\n",
    "                if df[col].nunique() < 5\n",
    "            ]\n",
    "        ],\n",
    "    ],\n",
    "    axis=1,\n",
    ")\n",
    "\n",
    "categorical_cols = df_final.select_dtypes(include=[\"object\"]).columns\n",
    "df_encoded = pd.get_dummies(df_final, columns=categorical_cols, drop_first=True)\n",
    "\n",
    "# выберем таргет\n",
    "X = df_encoded.drop(columns=\"Churn_Yes\")\n",
    "y = df_encoded[\"Churn_Yes\"]\n",
    "\n",
    "X_train, X_test, y_train, y_test = sk.model_selection.train_test_split(\n",
    "    X, y, test_size=0.3, random_state=52, stratify=y\n",
    ")\n",
    "print(f\"разбиение train/test: {X_train.shape[0]} | {X_test.shape[0]}\")"
   ]
  },
  {
   "cell_type": "markdown",
   "metadata": {},
   "source": [
    "### Константная модель(и)"
   ]
  },
  {
   "cell_type": "code",
   "execution_count": 115,
   "metadata": {},
   "outputs": [
    {
     "name": "stdout",
     "output_type": "stream",
     "text": [
      "модель :    prior    \t| acc=0.735; f1=0.000; roc=0.500;\n",
      "модель : most_frequent\t| acc=0.735; f1=0.000; roc=0.500;\n",
      "модель :   uniform   \t| acc=0.502; f1=0.348; roc=0.501;\n",
      "модель :  stratified \t| acc=0.632; f1=0.315; roc=0.532;\n"
     ]
    }
   ],
   "source": [
    "from sklearn.dummy import DummyClassifier\n",
    "from sklearn import metrics as sk_metrics\n",
    "\n",
    "dummy_models = [\n",
    "    DummyClassifier(strategy=S)\n",
    "    for S in DummyClassifier._parameter_constraints[\"strategy\"][0].options\n",
    "    if S != \"constant\"\n",
    "]\n",
    "\n",
    "for m in dummy_models:\n",
    "    m.fit(X_train, y_train)\n",
    "    y_pred = m.predict(X_test)\n",
    "\n",
    "    acc = sk_metrics.accuracy_score(y_test, y_pred)\n",
    "    f1 = sk_metrics.f1_score(y_test, y_pred)\n",
    "    roc = sk_metrics.roc_auc_score(y_test, y_pred)\n",
    "\n",
    "    print(f\"модель : {m.strategy:^12}\\t| acc={acc:.3f}; f1={f1:.3f}; roc={roc:.3f};\")"
   ]
  },
  {
   "cell_type": "markdown",
   "metadata": {},
   "source": [
    "по метрикам - все плохо. константные модели работают чуть лучше подбрасывания монетки."
   ]
  },
  {
   "cell_type": "markdown",
   "metadata": {},
   "source": [
    "### Baseline"
   ]
  },
  {
   "cell_type": "markdown",
   "metadata": {},
   "source": [
    "возьмем несколько моделей, обучим и проверим их метрики"
   ]
  },
  {
   "cell_type": "code",
   "execution_count": 111,
   "metadata": {},
   "outputs": [
    {
     "name": "stdout",
     "output_type": "stream",
     "text": [
      "модель : Logistic Regression \t| acc=0.807; f1=0.593; roc=0.718;\n",
      "модель :    Decision Tree    \t| acc=0.726; f1=0.482; roc=0.648;\n",
      "модель : K-Nearest Neighbors \t| acc=0.782; f1=0.561; roc=0.700;\n",
      "модель :    Random Forest    \t| acc=0.805; f1=0.573; roc=0.706;\n",
      "модель :  Gradient Boosting  \t| acc=0.777; f1=0.364; roc=0.606;\n"
     ]
    }
   ],
   "source": [
    "from sklearn.linear_model import LogisticRegression\n",
    "from sklearn.tree import DecisionTreeClassifier\n",
    "from sklearn.neighbors import KNeighborsClassifier\n",
    "from sklearn.ensemble import RandomForestClassifier, GradientBoostingClassifier\n",
    "\n",
    "models = {\n",
    "    \"Logistic Regression\": LogisticRegression(random_state=52, max_iter=2000),\n",
    "    \"Decision Tree\": DecisionTreeClassifier(random_state=52),\n",
    "    \"K-Nearest Neighbors\": KNeighborsClassifier(),\n",
    "    \"Random Forest\": RandomForestClassifier(random_state=52, max_depth=10, n_jobs=16),\n",
    "    \"Gradient Boosting\": GradientBoostingClassifier(\n",
    "        random_state=52, learning_rate=0.001, n_estimators=1000\n",
    "    ),\n",
    "}\n",
    "\n",
    "for n, m in models.items():\n",
    "    m.fit(X_train, y_train)\n",
    "    y_pred = m.predict(X_test)\n",
    "\n",
    "    acc = sk_metrics.accuracy_score(y_test, y_pred)\n",
    "    f1 = sk_metrics.f1_score(y_test, y_pred)\n",
    "    roc = sk_metrics.roc_auc_score(y_test, y_pred)\n",
    "\n",
    "    print(f\"модель : {n:^20}\\t| acc={acc:.3f}; f1={f1:.3f}; roc={roc:.3f};\")"
   ]
  },
  {
   "cell_type": "markdown",
   "metadata": {},
   "source": [
    "уже что-то, с чем можно работать. за базовое решение возьмем модель Random Forest"
   ]
  },
  {
   "cell_type": "markdown",
   "metadata": {},
   "source": []
  }
 ],
 "metadata": {
  "kernelspec": {
   "display_name": "Python 3",
   "language": "python",
   "name": "python3"
  },
  "language_info": {
   "codemirror_mode": {
    "name": "ipython",
    "version": 3
   },
   "file_extension": ".py",
   "mimetype": "text/x-python",
   "name": "python",
   "nbconvert_exporter": "python",
   "pygments_lexer": "ipython3",
   "version": "3.11.9"
  }
 },
 "nbformat": 4,
 "nbformat_minor": 2
}
