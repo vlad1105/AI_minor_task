{
 "cells": [
  {
   "cell_type": "markdown",
   "metadata": {},
   "source": [
    "# Задание 2"
   ]
  },
  {
   "cell_type": "markdown",
   "metadata": {},
   "source": [
    "## Построение и оценка бейзлайна"
   ]
  },
  {
   "cell_type": "markdown",
   "metadata": {},
   "source": [
    "### Пункт 1 - Разбиение данных"
   ]
  },
  {
   "cell_type": "code",
   "execution_count": 3,
   "metadata": {},
   "outputs": [],
   "source": [
    "import numpy as np\n",
    "import pandas as pd\n",
    "import sklearn as sk\n",
    "import matplotlib.pyplot as plt\n",
    "import os"
   ]
  },
  {
   "cell_type": "code",
   "execution_count": 4,
   "metadata": {},
   "outputs": [],
   "source": [
    "csv_file = next((f for f in os.listdir() if f.endswith('.csv')), None)\n",
    "if not csv_file: print(\"файл не найден.\")\n",
    "\n",
    "df = pd.read_csv(csv_file)"
   ]
  },
  {
   "cell_type": "code",
   "execution_count": 73,
   "metadata": {},
   "outputs": [
    {
     "name": "stdout",
     "output_type": "stream",
     "text": [
      "разбиение train/test: 4930 | 2113\n"
     ]
    }
   ],
   "source": [
    "# подготовим данные\n",
    "df_final = pd.concat([df.select_dtypes(include=['number']),\n",
    "                      df[[col for col in df.select_dtypes(include=['object']) \\\n",
    "                            if df[col].nunique() < 5]]], axis=1)\n",
    "\n",
    "categorical_cols = df_final.select_dtypes(include=['object']).columns\n",
    "df_encoded = pd.get_dummies(df_final, columns=categorical_cols, drop_first=True)\n",
    "\n",
    "X = df_encoded.drop(columns='Churn_Yes')\n",
    "y = df_encoded['Churn_Yes']\n",
    "\n",
    "X_train, X_test, y_train, y_test = sk.model_selection.train_test_split(X, y, test_size=.3, random_state=52, stratify=y)\n",
    "print(f\"разбиение train/test: {X_train.shape[0]} | {X_test.shape[0]}\")"
   ]
  },
  {
   "cell_type": "markdown",
   "metadata": {},
   "source": [
    "### Константная модель"
   ]
  },
  {
   "cell_type": "code",
   "execution_count": 82,
   "metadata": {},
   "outputs": [
    {
     "name": "stdout",
     "output_type": "stream",
     "text": [
      "модель :    prior    \t| acc=1.000; f1=1.0; roc=0.500;\n",
      "модель : most_frequent\t| acc=1.000; f1=1.0; roc=0.500;\n",
      "модель :   uniform   \t| acc=1.000; f1=1.0; roc=0.500;\n",
      "модель :  stratified \t| acc=1.000; f1=1.0; roc=0.500;\n"
     ]
    }
   ],
   "source": [
    "from sklearn.dummy import DummyClassifier\n",
    "from sklearn import metrics as sk_metrics\n",
    "dummy_models = [DummyClassifier(strategy=S) \n",
    "                for S in DummyClassifier._parameter_constraints[\"strategy\"][0].options \\\n",
    "                if S !=\"constant\"]\n",
    "\n",
    "for m in dummy_models:\n",
    "    m.fit(X_train, y_train)\n",
    "    y_pred = m.predict(X_test)\n",
    "    \n",
    "    numvec = np.vectorize(lambda x: 1 if x == \"Yes\" or x == True else 0)\n",
    "    _y_pred_num = numvec(y_pred)\n",
    "    _y_test_num = numvec(y_test)\n",
    "    \n",
    "    acc = sk_metrics.accuracy_score(_y_test_num, _y_pred_num)\n",
    "    f1 = sk_metrics.f1_score(_y_test_num, _y_pred_num)\n",
    "    roc = sk_metrics.roc_auc_score(y_test, _y_pred_num)\n",
    "    \n",
    "    print(f\"модель : {m.strategy:^12}\\t| acc={acc:.3f}; f1={f1}; roc={roc:.3f};\")"
   ]
  },
  {
   "cell_type": "markdown",
   "metadata": {},
   "source": [
    "по метрикам - все плохо. константные модели работают чуть лучше подбрасывания монетки."
   ]
  },
  {
   "cell_type": "markdown",
   "metadata": {},
   "source": []
  },
  {
   "cell_type": "markdown",
   "metadata": {},
   "source": [
    "### Baseline"
   ]
  },
  {
   "cell_type": "markdown",
   "metadata": {},
   "source": [
    "возьмем несколько моделей и проверим их"
   ]
  },
  {
   "cell_type": "code",
   "execution_count": 85,
   "metadata": {},
   "outputs": [
    {
     "name": "stderr",
     "output_type": "stream",
     "text": [
      "/opt/homebrew/lib/python3.11/site-packages/sklearn/linear_model/_logistic.py:460: ConvergenceWarning: lbfgs failed to converge (status=1):\n",
      "STOP: TOTAL NO. of ITERATIONS REACHED LIMIT.\n",
      "\n",
      "Increase the number of iterations (max_iter) or scale the data as shown in:\n",
      "    https://scikit-learn.org/stable/modules/preprocessing.html\n",
      "Please also refer to the documentation for alternative solver options:\n",
      "    https://scikit-learn.org/stable/modules/linear_model.html#logistic-regression\n",
      "  n_iter_i = _check_optimize_result(\n"
     ]
    },
    {
     "name": "stdout",
     "output_type": "stream",
     "text": [
      "модель : Logistic Regression\t| acc=0.808; f1=0.5962113659022932; roc=0.720;\n",
      "модель : Decision Tree\t| acc=0.726; f1=0.4821428571428571; roc=0.648;\n",
      "модель : K-Nearest Neighbors\t| acc=0.782; f1=0.5610687022900763; roc=0.700;\n",
      "модель : Random Forest\t| acc=0.792; f1=0.5528455284552846; roc=0.694;\n",
      "модель : Gradient Boosting\t| acc=0.807; f1=0.5828220858895705; roc=0.711;\n"
     ]
    }
   ],
   "source": [
    "from sklearn.linear_model import LogisticRegression\n",
    "from sklearn.tree import DecisionTreeClassifier\n",
    "from sklearn.neighbors import KNeighborsClassifier\n",
    "from sklearn.ensemble import RandomForestClassifier, GradientBoostingClassifier\n",
    "\n",
    "models = {\n",
    "    'Logistic Regression': LogisticRegression(random_state=52),\n",
    "    'Decision Tree': DecisionTreeClassifier(random_state=52),\n",
    "    'K-Nearest Neighbors': KNeighborsClassifier(),\n",
    "    'Random Forest': RandomForestClassifier(random_state=52),\n",
    "    'Gradient Boosting': GradientBoostingClassifier(random_state=52)\n",
    "}\n",
    "\n",
    "for n, m in models.items():\n",
    "    m.fit(X_train, y_train)\n",
    "    y_pred = m.predict(X_test)\n",
    "    \n",
    "    numvec = np.vectorize(lambda x: 1 if x == \"Yes\" or x == True else 0)\n",
    "    _y_pred_num = numvec(y_pred)\n",
    "    _y_test_num = numvec(y_test)\n",
    "     \n",
    "    acc = sk_metrics.accuracy_score(_y_test_num, _y_pred_num)\n",
    "    f1 = sk_metrics.f1_score(_y_test_num, _y_pred_num)\n",
    "    roc = sk_metrics.roc_auc_score(y_test, _y_pred_num)\n",
    "    \n",
    "    print(f\"модель : {n:^12}\\t| acc={acc:.3f}; f1={f1}; roc={roc:.3f};\")"
   ]
  },
  {
   "cell_type": "markdown",
   "metadata": {},
   "source": []
  }
 ],
 "metadata": {
  "kernelspec": {
   "display_name": "Python 3",
   "language": "python",
   "name": "python3"
  },
  "language_info": {
   "codemirror_mode": {
    "name": "ipython",
    "version": 3
   },
   "file_extension": ".py",
   "mimetype": "text/x-python",
   "name": "python",
   "nbconvert_exporter": "python",
   "pygments_lexer": "ipython3",
   "version": "3.11.9"
  }
 },
 "nbformat": 4,
 "nbformat_minor": 2
}
